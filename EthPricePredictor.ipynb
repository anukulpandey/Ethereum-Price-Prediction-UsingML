{
  "nbformat": 4,
  "nbformat_minor": 0,
  "metadata": {
    "colab": {
      "name": "EthPricePredictor.ipynb",
      "provenance": []
    },
    "kernelspec": {
      "name": "python3",
      "display_name": "Python 3"
    },
    "language_info": {
      "name": "python"
    },
    "accelerator": "GPU"
  },
  "cells": [
    {
      "cell_type": "code",
      "metadata": {
        "colab": {
          "resources": {
            "http://localhost:8080/nbextensions/google.colab/files.js": {
              "data": "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",
              "ok": true,
              "headers": [
                [
                  "content-type",
                  "application/javascript"
                ]
              ],
              "status": 200,
              "status_text": ""
            }
          },
          "base_uri": "https://localhost:8080/",
          "height": 73
        },
        "id": "i5kT8v4EF-0H",
        "outputId": "012fa19b-b866-4207-9e18-88348c3b1d00"
      },
      "source": [
        "# Importing all required libraries \n",
        "import numpy as np\n",
        "import matplotlib.pyplot as plt\n",
        "import pandas as pd\n",
        "import datetime as dt\n",
        "from sklearn.preprocessing import MinMaxScaler\n",
        "from tensorflow.keras.layers import Dense,Dropout,LSTM\n",
        "from tensorflow.keras.models import Sequential\n",
        "from google.colab import files\n",
        "uploaded = files.upload()"
      ],
      "execution_count": 1,
      "outputs": [
        {
          "output_type": "display_data",
          "data": {
            "text/html": [
              "\n",
              "     <input type=\"file\" id=\"files-8db9fab2-37da-4eb8-b94b-30b096932785\" name=\"files[]\" multiple disabled\n",
              "        style=\"border:none\" />\n",
              "     <output id=\"result-8db9fab2-37da-4eb8-b94b-30b096932785\">\n",
              "      Upload widget is only available when the cell has been executed in the\n",
              "      current browser session. Please rerun this cell to enable.\n",
              "      </output>\n",
              "      <script src=\"/nbextensions/google.colab/files.js\"></script> "
            ],
            "text/plain": [
              "<IPython.core.display.HTML object>"
            ]
          },
          "metadata": {
            "tags": []
          }
        },
        {
          "output_type": "stream",
          "text": [
            "Saving file1.csv to file1.csv\n"
          ],
          "name": "stdout"
        }
      ]
    },
    {
      "cell_type": "code",
      "metadata": {
        "colab": {
          "base_uri": "https://localhost:8080/",
          "height": 679
        },
        "id": "-OfN7YxGNiM_",
        "outputId": "b38fa323-1c9a-43dd-b2d4-bd668b676b64"
      },
      "source": [
        "!pip install tensorflow-gpu==2.0.0-alpha0"
      ],
      "execution_count": 2,
      "outputs": [
        {
          "output_type": "stream",
          "text": [
            "Collecting tensorflow-gpu==2.0.0-alpha0\n",
            "\u001b[?25l  Downloading https://files.pythonhosted.org/packages/6a/37/04e98bf98d055a177d5b4ab342133276011656686743a00dcdf27824a46f/tensorflow_gpu-2.0.0a0-cp37-cp37m-manylinux1_x86_64.whl (332.5MB)\n",
            "\u001b[K     |████████████████████████████████| 332.5MB 53kB/s \n",
            "\u001b[?25hRequirement already satisfied: keras-preprocessing>=1.0.5 in /usr/local/lib/python3.7/dist-packages (from tensorflow-gpu==2.0.0-alpha0) (1.1.2)\n",
            "Requirement already satisfied: absl-py>=0.7.0 in /usr/local/lib/python3.7/dist-packages (from tensorflow-gpu==2.0.0-alpha0) (0.12.0)\n",
            "Requirement already satisfied: wheel>=0.26 in /usr/local/lib/python3.7/dist-packages (from tensorflow-gpu==2.0.0-alpha0) (0.36.2)\n",
            "Requirement already satisfied: gast>=0.2.0 in /usr/local/lib/python3.7/dist-packages (from tensorflow-gpu==2.0.0-alpha0) (0.3.3)\n",
            "Requirement already satisfied: six>=1.10.0 in /usr/local/lib/python3.7/dist-packages (from tensorflow-gpu==2.0.0-alpha0) (1.15.0)\n",
            "Requirement already satisfied: protobuf>=3.6.1 in /usr/local/lib/python3.7/dist-packages (from tensorflow-gpu==2.0.0-alpha0) (3.12.4)\n",
            "Collecting keras-applications>=1.0.6\n",
            "\u001b[?25l  Downloading https://files.pythonhosted.org/packages/71/e3/19762fdfc62877ae9102edf6342d71b28fbfd9dea3d2f96a882ce099b03f/Keras_Applications-1.0.8-py3-none-any.whl (50kB)\n",
            "\u001b[K     |████████████████████████████████| 51kB 6.9MB/s \n",
            "\u001b[?25hRequirement already satisfied: astor>=0.6.0 in /usr/local/lib/python3.7/dist-packages (from tensorflow-gpu==2.0.0-alpha0) (0.8.1)\n",
            "Requirement already satisfied: numpy<2.0,>=1.14.5 in /usr/local/lib/python3.7/dist-packages (from tensorflow-gpu==2.0.0-alpha0) (1.19.5)\n",
            "Collecting tf-estimator-nightly<1.14.0.dev2019030116,>=1.14.0.dev2019030115\n",
            "\u001b[?25l  Downloading https://files.pythonhosted.org/packages/13/82/f16063b4eed210dc2ab057930ac1da4fbe1e91b7b051a6c8370b401e6ae7/tf_estimator_nightly-1.14.0.dev2019030115-py2.py3-none-any.whl (411kB)\n",
            "\u001b[K     |████████████████████████████████| 419kB 39.9MB/s \n",
            "\u001b[?25hRequirement already satisfied: termcolor>=1.1.0 in /usr/local/lib/python3.7/dist-packages (from tensorflow-gpu==2.0.0-alpha0) (1.1.0)\n",
            "Requirement already satisfied: grpcio>=1.8.6 in /usr/local/lib/python3.7/dist-packages (from tensorflow-gpu==2.0.0-alpha0) (1.32.0)\n",
            "Collecting tb-nightly<1.14.0a20190302,>=1.14.0a20190301\n",
            "\u001b[?25l  Downloading https://files.pythonhosted.org/packages/a9/51/aa1d756644bf4624c03844115e4ac4058eff77acd786b26315f051a4b195/tb_nightly-1.14.0a20190301-py3-none-any.whl (3.0MB)\n",
            "\u001b[K     |████████████████████████████████| 3.0MB 38.1MB/s \n",
            "\u001b[?25hRequirement already satisfied: google-pasta>=0.1.2 in /usr/local/lib/python3.7/dist-packages (from tensorflow-gpu==2.0.0-alpha0) (0.2.0)\n",
            "Requirement already satisfied: setuptools in /usr/local/lib/python3.7/dist-packages (from protobuf>=3.6.1->tensorflow-gpu==2.0.0-alpha0) (56.1.0)\n",
            "Requirement already satisfied: h5py in /usr/local/lib/python3.7/dist-packages (from keras-applications>=1.0.6->tensorflow-gpu==2.0.0-alpha0) (2.10.0)\n",
            "Requirement already satisfied: markdown>=2.6.8 in /usr/local/lib/python3.7/dist-packages (from tb-nightly<1.14.0a20190302,>=1.14.0a20190301->tensorflow-gpu==2.0.0-alpha0) (3.3.4)\n",
            "Requirement already satisfied: werkzeug>=0.11.15 in /usr/local/lib/python3.7/dist-packages (from tb-nightly<1.14.0a20190302,>=1.14.0a20190301->tensorflow-gpu==2.0.0-alpha0) (1.0.1)\n",
            "Requirement already satisfied: importlib-metadata; python_version < \"3.8\" in /usr/local/lib/python3.7/dist-packages (from markdown>=2.6.8->tb-nightly<1.14.0a20190302,>=1.14.0a20190301->tensorflow-gpu==2.0.0-alpha0) (3.10.1)\n",
            "Requirement already satisfied: typing-extensions>=3.6.4; python_version < \"3.8\" in /usr/local/lib/python3.7/dist-packages (from importlib-metadata; python_version < \"3.8\"->markdown>=2.6.8->tb-nightly<1.14.0a20190302,>=1.14.0a20190301->tensorflow-gpu==2.0.0-alpha0) (3.7.4.3)\n",
            "Requirement already satisfied: zipp>=0.5 in /usr/local/lib/python3.7/dist-packages (from importlib-metadata; python_version < \"3.8\"->markdown>=2.6.8->tb-nightly<1.14.0a20190302,>=1.14.0a20190301->tensorflow-gpu==2.0.0-alpha0) (3.4.1)\n",
            "Installing collected packages: keras-applications, tf-estimator-nightly, tb-nightly, tensorflow-gpu\n",
            "Successfully installed keras-applications-1.0.8 tb-nightly-1.14.0a20190301 tensorflow-gpu-2.0.0a0 tf-estimator-nightly-1.14.0.dev2019030115\n"
          ],
          "name": "stdout"
        },
        {
          "output_type": "display_data",
          "data": {
            "application/vnd.colab-display-data+json": {
              "pip_warning": {
                "packages": [
                  "tensorboard",
                  "tensorflow"
                ]
              }
            }
          },
          "metadata": {
            "tags": []
          }
        }
      ]
    },
    {
      "cell_type": "code",
      "metadata": {
        "colab": {
          "base_uri": "https://localhost:8080/",
          "height": 355
        },
        "id": "3cmR-Mq_GSYo",
        "outputId": "cff53694-0ade-4b11-b9c9-9094192226eb"
      },
      "source": [
        "# Read the file\n",
        "df = pd.read_csv('file1.csv',parse_dates=['Date'])\n",
        "\n",
        "# Show the file\n",
        "df.tail(10)\n",
        "# Last few rows are having NaN so we will have to remove them later\n",
        "# We have 1442 data points of 60 days."
      ],
      "execution_count": 3,
      "outputs": [
        {
          "output_type": "execute_result",
          "data": {
            "text/html": [
              "<div>\n",
              "<style scoped>\n",
              "    .dataframe tbody tr th:only-of-type {\n",
              "        vertical-align: middle;\n",
              "    }\n",
              "\n",
              "    .dataframe tbody tr th {\n",
              "        vertical-align: top;\n",
              "    }\n",
              "\n",
              "    .dataframe thead th {\n",
              "        text-align: right;\n",
              "    }\n",
              "</style>\n",
              "<table border=\"1\" class=\"dataframe\">\n",
              "  <thead>\n",
              "    <tr style=\"text-align: right;\">\n",
              "      <th></th>\n",
              "      <th>Unnamed: 0</th>\n",
              "      <th>Date</th>\n",
              "      <th>Time</th>\n",
              "      <th>Price</th>\n",
              "      <th>Unnamed: 4</th>\n",
              "    </tr>\n",
              "  </thead>\n",
              "  <tbody>\n",
              "    <tr>\n",
              "      <th>1439</th>\n",
              "      <td>1439.0</td>\n",
              "      <td>2021-12-05</td>\n",
              "      <td>10:32:21</td>\n",
              "      <td>314187.7489</td>\n",
              "      <td>NaN</td>\n",
              "    </tr>\n",
              "    <tr>\n",
              "      <th>1440</th>\n",
              "      <td>1440.0</td>\n",
              "      <td>2021-12-05</td>\n",
              "      <td>11:30:15</td>\n",
              "      <td>316069.7025</td>\n",
              "      <td>NaN</td>\n",
              "    </tr>\n",
              "    <tr>\n",
              "      <th>1441</th>\n",
              "      <td>1441.0</td>\n",
              "      <td>2021-12-05</td>\n",
              "      <td>12:31:16</td>\n",
              "      <td>315253.3926</td>\n",
              "      <td>NaN</td>\n",
              "    </tr>\n",
              "    <tr>\n",
              "      <th>1442</th>\n",
              "      <td>1442.0</td>\n",
              "      <td>2021-12-05</td>\n",
              "      <td>12:40:41</td>\n",
              "      <td>315508.8576</td>\n",
              "      <td>NaN</td>\n",
              "    </tr>\n",
              "    <tr>\n",
              "      <th>1443</th>\n",
              "      <td>NaN</td>\n",
              "      <td>NaT</td>\n",
              "      <td>NaN</td>\n",
              "      <td>NaN</td>\n",
              "      <td>NaN</td>\n",
              "    </tr>\n",
              "    <tr>\n",
              "      <th>1444</th>\n",
              "      <td>NaN</td>\n",
              "      <td>NaT</td>\n",
              "      <td>NaN</td>\n",
              "      <td>NaN</td>\n",
              "      <td>NaN</td>\n",
              "    </tr>\n",
              "    <tr>\n",
              "      <th>1445</th>\n",
              "      <td>NaN</td>\n",
              "      <td>NaT</td>\n",
              "      <td>NaN</td>\n",
              "      <td>NaN</td>\n",
              "      <td>NaN</td>\n",
              "    </tr>\n",
              "    <tr>\n",
              "      <th>1446</th>\n",
              "      <td>NaN</td>\n",
              "      <td>NaT</td>\n",
              "      <td>NaN</td>\n",
              "      <td>NaN</td>\n",
              "      <td>NaN</td>\n",
              "    </tr>\n",
              "    <tr>\n",
              "      <th>1447</th>\n",
              "      <td>NaN</td>\n",
              "      <td>NaT</td>\n",
              "      <td>NaN</td>\n",
              "      <td>NaN</td>\n",
              "      <td>NaN</td>\n",
              "    </tr>\n",
              "    <tr>\n",
              "      <th>1448</th>\n",
              "      <td>NaN</td>\n",
              "      <td>NaT</td>\n",
              "      <td>NaN</td>\n",
              "      <td>NaN</td>\n",
              "      <td>NaN</td>\n",
              "    </tr>\n",
              "  </tbody>\n",
              "</table>\n",
              "</div>"
            ],
            "text/plain": [
              "      Unnamed: 0       Date      Time        Price  Unnamed: 4\n",
              "1439      1439.0 2021-12-05  10:32:21  314187.7489         NaN\n",
              "1440      1440.0 2021-12-05  11:30:15  316069.7025         NaN\n",
              "1441      1441.0 2021-12-05  12:31:16  315253.3926         NaN\n",
              "1442      1442.0 2021-12-05  12:40:41  315508.8576         NaN\n",
              "1443         NaN        NaT       NaN          NaN         NaN\n",
              "1444         NaN        NaT       NaN          NaN         NaN\n",
              "1445         NaN        NaT       NaN          NaN         NaN\n",
              "1446         NaN        NaT       NaN          NaN         NaN\n",
              "1447         NaN        NaT       NaN          NaN         NaN\n",
              "1448         NaN        NaT       NaN          NaN         NaN"
            ]
          },
          "metadata": {
            "tags": []
          },
          "execution_count": 3
        }
      ]
    },
    {
      "cell_type": "code",
      "metadata": {
        "colab": {
          "base_uri": "https://localhost:8080/"
        },
        "id": "joYKdKiLH7pV",
        "outputId": "e41490c8-8c0a-4652-9a18-ff550cf7def1"
      },
      "source": [
        "# Squeeze data in [0,1]\n",
        "scaler = MinMaxScaler()\n",
        "price = df.Price.values.reshape(-1, 1)\n",
        "scaled_price=scaler.fit_transform(price)\n",
        "\n",
        "# Show data \n",
        "print(scaled_price)\n",
        "\n",
        "# Remember that scaled_price is a numpy array\n",
        "print('\\n')\n",
        "\n",
        "# Remove NaN\n",
        "scaled_price=scaled_price[~np.isnan(scaled_price)]\n",
        "scaled_price = scaled_price.reshape(-1, 1)\n",
        "\n",
        "# Show data \n",
        "print(scaled_price)"
      ],
      "execution_count": 4,
      "outputs": [
        {
          "output_type": "stream",
          "text": [
            "[[0.07894156]\n",
            " [0.07960763]\n",
            " [0.08118525]\n",
            " ...\n",
            " [       nan]\n",
            " [       nan]\n",
            " [       nan]]\n",
            "\n",
            "\n",
            "[[0.07894156]\n",
            " [0.07960763]\n",
            " [0.08118525]\n",
            " ...\n",
            " [0.99133343]\n",
            " [0.98733219]\n",
            " [0.98858438]]\n"
          ],
          "name": "stdout"
        }
      ]
    },
    {
      "cell_type": "code",
      "metadata": {
        "id": "5aDOI7N4JCgx"
      },
      "source": [
        "# LSTM data should be 3D - [batch_size, sequence_length, n_features]\n",
        "# Create functions to arrange data as required\n",
        "sequence_length=110\n",
        "\n",
        "# Sequence will take raw data and sequence length and return an numpy array with all data shifted\n",
        "def sequence(data,sequence_length):\n",
        "  d = []\n",
        "  for index in range(len(data) - sequence_length):\n",
        "        d.append(data[index: index + sequence_length])\n",
        "  return np.array(d)\n",
        "\n",
        "def preprocess(data_raw, sequence_length, train_split):\n",
        "    data = sequence(data_raw, sequence_length)\n",
        "    num_train = int(train_split * data.shape[0])\n",
        "    X_train = data[:num_train, :-1, :]\n",
        "    y_train = data[:num_train, -1, :]\n",
        "    X_test = data[num_train:, :-1, :]\n",
        "    y_test = data[num_train:, -1, :]\n",
        "\n",
        "    return X_train, y_train, X_test, y_test"
      ],
      "execution_count": 12,
      "outputs": []
    },
    {
      "cell_type": "code",
      "metadata": {
        "id": "TiuIMZJALXSf"
      },
      "source": [
        "X_train,y_train, X_test, y_test=preprocess(scaled_price,sequence_length, train_split = 0.95)"
      ],
      "execution_count": 13,
      "outputs": []
    },
    {
      "cell_type": "code",
      "metadata": {
        "id": "5LxfY5qQMVOV"
      },
      "source": [
        "import tensorflow as tf\n",
        "from tensorflow import keras\n",
        "from tensorflow.keras import layers\n",
        "from tensorflow.keras.layers import Bidirectional, Dropout, Activation, Dense, LSTM\n",
        "from tensorflow.python.keras.layers import CuDNNLSTM\n",
        "from tensorflow.keras.models import Sequential\n",
        "DROPOUT = 0.2\n",
        "WINDOW_SIZE = sequence_length - 1\n",
        "model = keras.Sequential()\n",
        "\n",
        "model.add(Bidirectional(\n",
        "  CuDNNLSTM(WINDOW_SIZE, return_sequences=True),\n",
        "  input_shape=(WINDOW_SIZE, X_train.shape[-1])\n",
        "))\n",
        "model.add(Dropout(rate=DROPOUT))\n",
        "\n",
        "model.add(Bidirectional(\n",
        "  CuDNNLSTM((WINDOW_SIZE * 2), return_sequences=True)\n",
        "))\n",
        "model.add(Dropout(rate=DROPOUT))\n",
        "\n",
        "model.add(Bidirectional(\n",
        "  CuDNNLSTM(WINDOW_SIZE, return_sequences=False)\n",
        "))\n",
        "\n",
        "model.add(Dense(units=1))\n",
        "\n",
        "model.add(Activation('linear'))"
      ],
      "execution_count": 14,
      "outputs": []
    },
    {
      "cell_type": "code",
      "metadata": {
        "id": "ZKw2deDdOt3a",
        "colab": {
          "base_uri": "https://localhost:8080/"
        },
        "outputId": "da400a47-1917-42c2-a03f-f0af68832906"
      },
      "source": [
        "BATCH_SIZE = 64\n",
        "\n",
        "model.compile(\n",
        "    loss='mean_squared_error',\n",
        "    optimizer='adam'\n",
        ")\n",
        "\n",
        "history = model.fit(\n",
        "    X_train, \n",
        "    y_train, \n",
        "    epochs=50, \n",
        "    batch_size=BATCH_SIZE, \n",
        "    shuffle=False,\n",
        "    validation_split=0.1\n",
        ")"
      ],
      "execution_count": 15,
      "outputs": [
        {
          "output_type": "stream",
          "text": [
            "Epoch 1/50\n",
            "WARNING:tensorflow:AutoGraph could not transform <function Model.make_train_function.<locals>.train_function at 0x7fa9a839d290> and will run it as-is.\n",
            "Please report this to the TensorFlow team. When filing the bug, set the verbosity to 10 (on Linux, `export AUTOGRAPH_VERBOSITY=10`) and attach the full output.\n",
            "Cause: closure mismatch, requested ('self', 'step_function'), but source function had ('self',)\n",
            "To silence this warning, decorate the function with @tf.autograph.experimental.do_not_convert\n",
            "WARNING: AutoGraph could not transform <function Model.make_train_function.<locals>.train_function at 0x7fa9a839d290> and will run it as-is.\n",
            "Please report this to the TensorFlow team. When filing the bug, set the verbosity to 10 (on Linux, `export AUTOGRAPH_VERBOSITY=10`) and attach the full output.\n",
            "Cause: closure mismatch, requested ('self', 'step_function'), but source function had ('self',)\n",
            "To silence this warning, decorate the function with @tf.autograph.experimental.do_not_convert\n",
            "18/18 [==============================] - ETA: 0s - loss: 0.0065WARNING:tensorflow:AutoGraph could not transform <function Model.make_test_function.<locals>.test_function at 0x7fa984dce170> and will run it as-is.\n",
            "Please report this to the TensorFlow team. When filing the bug, set the verbosity to 10 (on Linux, `export AUTOGRAPH_VERBOSITY=10`) and attach the full output.\n",
            "Cause: closure mismatch, requested ('self', 'step_function'), but source function had ()\n",
            "To silence this warning, decorate the function with @tf.autograph.experimental.do_not_convert\n",
            "WARNING: AutoGraph could not transform <function Model.make_test_function.<locals>.test_function at 0x7fa984dce170> and will run it as-is.\n",
            "Please report this to the TensorFlow team. When filing the bug, set the verbosity to 10 (on Linux, `export AUTOGRAPH_VERBOSITY=10`) and attach the full output.\n",
            "Cause: closure mismatch, requested ('self', 'step_function'), but source function had ()\n",
            "To silence this warning, decorate the function with @tf.autograph.experimental.do_not_convert\n",
            "18/18 [==============================] - 6s 148ms/step - loss: 0.0064 - val_loss: 0.0034\n",
            "Epoch 2/50\n",
            "18/18 [==============================] - 2s 84ms/step - loss: 0.0205 - val_loss: 0.0081\n",
            "Epoch 3/50\n",
            "18/18 [==============================] - 1s 84ms/step - loss: 0.0205 - val_loss: 0.0068\n",
            "Epoch 4/50\n",
            "18/18 [==============================] - 2s 84ms/step - loss: 0.0028 - val_loss: 0.0076\n",
            "Epoch 5/50\n",
            "18/18 [==============================] - 1s 83ms/step - loss: 0.0083 - val_loss: 0.0189\n",
            "Epoch 6/50\n",
            "18/18 [==============================] - 2s 84ms/step - loss: 0.0675 - val_loss: 0.0921\n",
            "Epoch 7/50\n",
            "18/18 [==============================] - 2s 85ms/step - loss: 0.3352 - val_loss: 0.0109\n",
            "Epoch 8/50\n",
            "18/18 [==============================] - 1s 83ms/step - loss: 0.0594 - val_loss: 0.0089\n",
            "Epoch 9/50\n",
            "18/18 [==============================] - 1s 84ms/step - loss: 0.0040 - val_loss: 0.0152\n",
            "Epoch 10/50\n",
            "18/18 [==============================] - 2s 84ms/step - loss: 0.0135 - val_loss: 0.0444\n",
            "Epoch 11/50\n",
            "18/18 [==============================] - 2s 84ms/step - loss: 0.0209 - val_loss: 6.6589e-04\n",
            "Epoch 12/50\n",
            "18/18 [==============================] - 1s 84ms/step - loss: 7.8505e-04 - val_loss: 0.0022\n",
            "Epoch 13/50\n",
            "18/18 [==============================] - 1s 83ms/step - loss: 0.0029 - val_loss: 0.0015\n",
            "Epoch 14/50\n",
            "18/18 [==============================] - 1s 83ms/step - loss: 0.0038 - val_loss: 0.0028\n",
            "Epoch 15/50\n",
            "18/18 [==============================] - 1s 83ms/step - loss: 6.2254e-04 - val_loss: 0.0077\n",
            "Epoch 16/50\n",
            "18/18 [==============================] - 2s 84ms/step - loss: 6.5057e-04 - val_loss: 0.0018\n",
            "Epoch 17/50\n",
            "18/18 [==============================] - 1s 83ms/step - loss: 0.0014 - val_loss: 0.0031\n",
            "Epoch 18/50\n",
            "18/18 [==============================] - 1s 83ms/step - loss: 0.0011 - val_loss: 0.0027\n",
            "Epoch 19/50\n",
            "18/18 [==============================] - 2s 85ms/step - loss: 0.0011 - val_loss: 0.0026\n",
            "Epoch 20/50\n",
            "18/18 [==============================] - 1s 83ms/step - loss: 2.2591e-04 - val_loss: 0.0023\n",
            "Epoch 21/50\n",
            "18/18 [==============================] - 2s 84ms/step - loss: 4.6601e-04 - val_loss: 0.0013\n",
            "Epoch 22/50\n",
            "18/18 [==============================] - 1s 83ms/step - loss: 0.0011 - val_loss: 0.0019\n",
            "Epoch 23/50\n",
            "18/18 [==============================] - 1s 84ms/step - loss: 6.2928e-04 - val_loss: 7.7109e-04\n",
            "Epoch 24/50\n",
            "18/18 [==============================] - 1s 82ms/step - loss: 6.4726e-04 - val_loss: 0.0018\n",
            "Epoch 25/50\n",
            "18/18 [==============================] - 1s 83ms/step - loss: 2.1180e-04 - val_loss: 0.0010\n",
            "Epoch 26/50\n",
            "18/18 [==============================] - 1s 83ms/step - loss: 3.7347e-04 - val_loss: 6.5302e-04\n",
            "Epoch 27/50\n",
            "18/18 [==============================] - 2s 85ms/step - loss: 6.8963e-04 - val_loss: 0.0014\n",
            "Epoch 28/50\n",
            "18/18 [==============================] - 2s 84ms/step - loss: 2.1697e-04 - val_loss: 4.6360e-04\n",
            "Epoch 29/50\n",
            "18/18 [==============================] - 1s 84ms/step - loss: 2.1523e-04 - val_loss: 8.7140e-04\n",
            "Epoch 30/50\n",
            "18/18 [==============================] - 2s 85ms/step - loss: 2.3475e-04 - val_loss: 7.4148e-04\n",
            "Epoch 31/50\n",
            "18/18 [==============================] - 2s 85ms/step - loss: 2.2617e-04 - val_loss: 4.0679e-04\n",
            "Epoch 32/50\n",
            "18/18 [==============================] - 1s 83ms/step - loss: 2.5139e-04 - val_loss: 9.4636e-04\n",
            "Epoch 33/50\n",
            "18/18 [==============================] - 1s 83ms/step - loss: 1.2417e-04 - val_loss: 4.2571e-04\n",
            "Epoch 34/50\n",
            "18/18 [==============================] - 2s 85ms/step - loss: 1.4509e-04 - val_loss: 6.8013e-04\n",
            "Epoch 35/50\n",
            "18/18 [==============================] - 2s 84ms/step - loss: 1.1263e-04 - val_loss: 4.4969e-04\n",
            "Epoch 36/50\n",
            "18/18 [==============================] - 2s 84ms/step - loss: 1.1945e-04 - val_loss: 4.9064e-04\n",
            "Epoch 37/50\n",
            "18/18 [==============================] - 2s 85ms/step - loss: 1.5568e-04 - val_loss: 6.3718e-04\n",
            "Epoch 38/50\n",
            "18/18 [==============================] - 2s 84ms/step - loss: 1.4115e-04 - val_loss: 3.9939e-04\n",
            "Epoch 39/50\n",
            "18/18 [==============================] - 2s 84ms/step - loss: 1.5924e-04 - val_loss: 7.5666e-04\n",
            "Epoch 40/50\n",
            "18/18 [==============================] - 1s 84ms/step - loss: 1.3706e-04 - val_loss: 4.0445e-04\n",
            "Epoch 41/50\n",
            "18/18 [==============================] - 1s 82ms/step - loss: 1.7264e-04 - val_loss: 6.8024e-04\n",
            "Epoch 42/50\n",
            "18/18 [==============================] - 2s 85ms/step - loss: 1.4997e-04 - val_loss: 3.9942e-04\n",
            "Epoch 43/50\n",
            "18/18 [==============================] - 2s 85ms/step - loss: 3.6719e-04 - val_loss: 9.4840e-04\n",
            "Epoch 44/50\n",
            "18/18 [==============================] - 2s 84ms/step - loss: 4.4828e-04 - val_loss: 6.0382e-04\n",
            "Epoch 45/50\n",
            "18/18 [==============================] - 1s 83ms/step - loss: 0.0011 - val_loss: 0.0024\n",
            "Epoch 46/50\n",
            "18/18 [==============================] - 1s 83ms/step - loss: 0.0015 - val_loss: 0.0014\n",
            "Epoch 47/50\n",
            "18/18 [==============================] - 2s 85ms/step - loss: 0.0041 - val_loss: 0.0061\n",
            "Epoch 48/50\n",
            "18/18 [==============================] - 1s 83ms/step - loss: 0.0024 - val_loss: 0.0015\n",
            "Epoch 49/50\n",
            "18/18 [==============================] - 1s 83ms/step - loss: 0.0059 - val_loss: 0.0073\n",
            "Epoch 50/50\n",
            "18/18 [==============================] - 2s 84ms/step - loss: 7.8909e-04 - val_loss: 4.8619e-04\n"
          ],
          "name": "stdout"
        }
      ]
    },
    {
      "cell_type": "code",
      "metadata": {
        "colab": {
          "base_uri": "https://localhost:8080/",
          "height": 313
        },
        "id": "V-YbvdoUPnD8",
        "outputId": "db63a1d4-4530-422f-89b6-181a50199d33"
      },
      "source": [
        "# Evaluate loss of model\n",
        "model.evaluate(X_test, y_test)\n",
        "plt.plot(history.history['loss'])\n",
        "plt.plot(history.history['val_loss'])\n",
        "plt.title('model loss')\n",
        "plt.ylabel('loss')\n",
        "plt.xlabel('epoch')\n",
        "plt.legend(['train', 'test'], loc='upper left')\n",
        "plt.show()\n"
      ],
      "execution_count": 16,
      "outputs": [
        {
          "output_type": "stream",
          "text": [
            "3/3 [==============================] - 0s 36ms/step - loss: 6.7521e-04\n"
          ],
          "name": "stdout"
        },
        {
          "output_type": "display_data",
          "data": {
            "image/png": "[encoded data removed]",
            "text/plain": [
              "<Figure size 432x288 with 1 Axes>"
            ]
          },
          "metadata": {
            "tags": [],
            "needs_background": "light"
          }
        }
      ]
    },
    {
      "cell_type": "code",
      "metadata": {
        "colab": {
          "base_uri": "https://localhost:8080/",
          "height": 295
        },
        "id": "mSF3UQRpQzLA",
        "outputId": "624b4042-2385-4689-c922-290bfc5cd8b6"
      },
      "source": [
        "y_hat = model.predict(X_test)\n",
        "\n",
        "y_test_inverse = scaler.inverse_transform(y_test)\n",
        "y_hat_inverse = scaler.inverse_transform(y_hat)\n",
        " \n",
        "plt.plot(y_test_inverse, label=\"Actual Price\", color='green')\n",
        "plt.plot(y_hat_inverse, label=\"Predicted Price\", color='red')\n",
        " \n",
        "plt.title('Ether price prediction')\n",
        "plt.xlabel('Time [days]')\n",
        "plt.ylabel('Price')\n",
        "plt.legend(loc='best')\n",
        " \n",
        "plt.show();"
      ],
      "execution_count": 18,
      "outputs": [
        {
          "output_type": "display_data",
          "data": {
            "image/png": "[encoded data removed]",
            "text/plain": [
              "<Figure size 432x288 with 1 Axes>"
            ]
          },
          "metadata": {
            "tags": [],
            "needs_background": "light"
          }
        }
      ]
    }
  ]
}